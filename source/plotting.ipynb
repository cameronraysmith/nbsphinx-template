{
 "cells": [
  {
   "cell_type": "markdown",
   "id": "7104f92d",
   "metadata": {
    "tags": []
   },
   "source": [
    "# Plotting setup"
   ]
  },
  {
   "cell_type": "markdown",
   "id": "b5377eda-420a-4ca6-bf12-c9142b4bdb66",
   "metadata": {},
   "source": [
    "Test <cite data-cite=\"Gao2017-aj\">Gao et al. (2017)</cite>."
   ]
  },
  {
   "cell_type": "code",
   "execution_count": 1,
   "id": "67fbc795",
   "metadata": {
    "execution": {
     "iopub.execute_input": "2021-05-27T07:39:13.540232Z",
     "iopub.status.busy": "2021-05-27T07:39:13.539928Z",
     "iopub.status.idle": "2021-05-27T07:39:13.801885Z",
     "shell.execute_reply": "2021-05-27T07:39:13.801341Z",
     "shell.execute_reply.started": "2021-05-27T07:39:13.540157Z"
    }
   },
   "outputs": [],
   "source": [
    "import matplotlib.pyplot as plt"
   ]
  },
  {
   "cell_type": "markdown",
   "id": "85dc115d",
   "metadata": {},
   "source": [
    "## Show available fonts"
   ]
  },
  {
   "cell_type": "code",
   "execution_count": 2,
   "id": "ca149bf0",
   "metadata": {
    "execution": {
     "iopub.execute_input": "2021-05-27T07:39:13.803040Z",
     "iopub.status.busy": "2021-05-27T07:39:13.802874Z",
     "iopub.status.idle": "2021-05-27T07:39:13.831928Z",
     "shell.execute_reply": "2021-05-27T07:39:13.831396Z",
     "shell.execute_reply.started": "2021-05-27T07:39:13.803021Z"
    }
   },
   "outputs": [
    {
     "data": {
      "text/html": [
       "<div style='column-count: 2;'><p>C059: <span style='font-family:C059; font-size: 24px;'>C059</p>\n",
       "<p>Cantarell: <span style='font-family:Cantarell; font-size: 24px;'>Cantarell</p>\n",
       "<p>D050000L: <span style='font-family:D050000L; font-size: 24px;'>D050000L</p>\n",
       "<p>DejaVu Sans: <span style='font-family:DejaVu Sans; font-size: 24px;'>DejaVu Sans</p>\n",
       "<p>DejaVu Sans Display: <span style='font-family:DejaVu Sans Display; font-size: 24px;'>DejaVu Sans Display</p>\n",
       "<p>DejaVu Sans Mono: <span style='font-family:DejaVu Sans Mono; font-size: 24px;'>DejaVu Sans Mono</p>\n",
       "<p>DejaVu Serif: <span style='font-family:DejaVu Serif; font-size: 24px;'>DejaVu Serif</p>\n",
       "<p>DejaVu Serif Display: <span style='font-family:DejaVu Serif Display; font-size: 24px;'>DejaVu Serif Display</p>\n",
       "<p>Nimbus Mono PS: <span style='font-family:Nimbus Mono PS; font-size: 24px;'>Nimbus Mono PS</p>\n",
       "<p>Nimbus Roman: <span style='font-family:Nimbus Roman; font-size: 24px;'>Nimbus Roman</p>\n",
       "<p>Nimbus Sans: <span style='font-family:Nimbus Sans; font-size: 24px;'>Nimbus Sans</p>\n",
       "<p>Nimbus Sans Narrow: <span style='font-family:Nimbus Sans Narrow; font-size: 24px;'>Nimbus Sans Narrow</p>\n",
       "<p>P052: <span style='font-family:P052; font-size: 24px;'>P052</p>\n",
       "<p>STIXGeneral: <span style='font-family:STIXGeneral; font-size: 24px;'>STIXGeneral</p>\n",
       "<p>STIXNonUnicode: <span style='font-family:STIXNonUnicode; font-size: 24px;'>STIXNonUnicode</p>\n",
       "<p>STIXSizeFiveSym: <span style='font-family:STIXSizeFiveSym; font-size: 24px;'>STIXSizeFiveSym</p>\n",
       "<p>STIXSizeFourSym: <span style='font-family:STIXSizeFourSym; font-size: 24px;'>STIXSizeFourSym</p>\n",
       "<p>STIXSizeOneSym: <span style='font-family:STIXSizeOneSym; font-size: 24px;'>STIXSizeOneSym</p>\n",
       "<p>STIXSizeThreeSym: <span style='font-family:STIXSizeThreeSym; font-size: 24px;'>STIXSizeThreeSym</p>\n",
       "<p>STIXSizeTwoSym: <span style='font-family:STIXSizeTwoSym; font-size: 24px;'>STIXSizeTwoSym</p>\n",
       "<p>Source Code Pro: <span style='font-family:Source Code Pro; font-size: 24px;'>Source Code Pro</p>\n",
       "<p>Standard Symbols PS: <span style='font-family:Standard Symbols PS; font-size: 24px;'>Standard Symbols PS</p>\n",
       "<p>URW Bookman: <span style='font-family:URW Bookman; font-size: 24px;'>URW Bookman</p>\n",
       "<p>URW Gothic: <span style='font-family:URW Gothic; font-size: 24px;'>URW Gothic</p>\n",
       "<p>Z003: <span style='font-family:Z003; font-size: 24px;'>Z003</p>\n",
       "<p>cmb10: <span style='font-family:cmb10; font-size: 24px;'>cmb10</p>\n",
       "<p>cmex10: <span style='font-family:cmex10; font-size: 24px;'>cmex10</p>\n",
       "<p>cmmi10: <span style='font-family:cmmi10; font-size: 24px;'>cmmi10</p>\n",
       "<p>cmr10: <span style='font-family:cmr10; font-size: 24px;'>cmr10</p>\n",
       "<p>cmss10: <span style='font-family:cmss10; font-size: 24px;'>cmss10</p>\n",
       "<p>cmsy10: <span style='font-family:cmsy10; font-size: 24px;'>cmsy10</p>\n",
       "<p>cmtt10: <span style='font-family:cmtt10; font-size: 24px;'>cmtt10</p></div>"
      ],
      "text/plain": [
       "<IPython.core.display.HTML object>"
      ]
     },
     "execution_count": 2,
     "metadata": {},
     "output_type": "execute_result"
    }
   ],
   "source": [
    "# http://jonathansoma.com/lede/data-studio/matplotlib/list-all-fonts-available-in-matplotlib-plus-samples/\n",
    "# List all fonts available in matplotlib plus samples\n",
    "\n",
    "import matplotlib.font_manager\n",
    "from IPython.core.display import HTML\n",
    "\n",
    "def make_html(fontname):\n",
    "    return \"<p>{font}: <span style='font-family:{font}; font-size: 24px;'>{font}</p>\".format(font=fontname)\n",
    "\n",
    "code = \"\\n\".join([make_html(font) for font in sorted(set([f.name for f in matplotlib.font_manager.fontManager.ttflist]))])\n",
    "\n",
    "HTML(\"<div style='column-count: 2;'>{}</div>\".format(code))"
   ]
  },
  {
   "cell_type": "code",
   "execution_count": 3,
   "id": "3dac7426",
   "metadata": {
    "execution": {
     "iopub.execute_input": "2021-05-27T07:39:13.833398Z",
     "iopub.status.busy": "2021-05-27T07:39:13.833237Z",
     "iopub.status.idle": "2021-05-27T07:39:13.838184Z",
     "shell.execute_reply": "2021-05-27T07:39:13.837719Z",
     "shell.execute_reply.started": "2021-05-27T07:39:13.833380Z"
    }
   },
   "outputs": [],
   "source": [
    "# ?matplotlib.font_manager.fontManager.addfont"
   ]
  },
  {
   "cell_type": "markdown",
   "id": "26405e92",
   "metadata": {},
   "source": [
    "## Add latin modern fonts"
   ]
  },
  {
   "cell_type": "code",
   "execution_count": 4,
   "id": "8d8277bc",
   "metadata": {
    "execution": {
     "iopub.execute_input": "2021-05-27T07:39:13.839283Z",
     "iopub.status.busy": "2021-05-27T07:39:13.839130Z",
     "iopub.status.idle": "2021-05-27T07:39:13.845337Z",
     "shell.execute_reply": "2021-05-27T07:39:13.844851Z",
     "shell.execute_reply.started": "2021-05-27T07:39:13.839266Z"
    }
   },
   "outputs": [],
   "source": [
    "# https://www.archlinux.org/packages/community/any/otf-latin-modern/\n",
    "# !sudo pacman -Syu --needed --noconfirm otf-latin-modern inkscape\n",
    "# !brew cask install font-latin-modern\n",
    "# fonts_path = \"/usr/share/texmf/fonts/opentype/public/lm/\" #ubuntu\n",
    "# fonts_path = \"~/Library/Fonts/\" # macos\n",
    "fonts_path = \"/usr/share/fonts/OTF/\" # arch\n",
    "matplotlib.font_manager.fontManager.addfont(fonts_path + \"lmsans10-regular.otf\")\n",
    "matplotlib.font_manager.fontManager.addfont(fonts_path + \"lmroman10-regular.otf\")"
   ]
  },
  {
   "cell_type": "markdown",
   "id": "c6812a3a",
   "metadata": {},
   "source": [
    "## Set matplotlib to use Latin Modern fonts"
   ]
  },
  {
   "cell_type": "code",
   "execution_count": 5,
   "id": "478307b2",
   "metadata": {
    "execution": {
     "iopub.execute_input": "2021-05-27T07:39:13.846627Z",
     "iopub.status.busy": "2021-05-27T07:39:13.846429Z",
     "iopub.status.idle": "2021-05-27T07:39:13.853110Z",
     "shell.execute_reply": "2021-05-27T07:39:13.852403Z",
     "shell.execute_reply.started": "2021-05-27T07:39:13.846576Z"
    }
   },
   "outputs": [
    {
     "name": "stderr",
     "output_type": "stream",
     "text": [
      "<ipython-input-5-5f8582c2894e>:3: DeprecationWarning: `set_matplotlib_formats` is deprecated since IPython 7.23, directly use `matplotlib_inline.backend_inline.set_matplotlib_formats()`\n",
      "  set_matplotlib_formats('svg') # use SVG backend to maintain vectorization\n"
     ]
    }
   ],
   "source": [
    "from IPython.display import set_matplotlib_formats\n",
    "#%matplotlib inline\n",
    "set_matplotlib_formats('svg') # use SVG backend to maintain vectorization\n",
    "plt.style.use('default') #reset default parameters\n",
    "# https://stackoverflow.com/a/3900167/446907\n",
    "plt.rcParams.update({'font.size': 16,\n",
    "                     'font.family': ['sans-serif'],\n",
    "                     'font.serif': ['Latin Modern Roman'] + plt.rcParams['font.serif'],\n",
    "                     'font.sans-serif': ['Latin Modern Sans'] + plt.rcParams['font.sans-serif']})"
   ]
  },
  {
   "cell_type": "markdown",
   "id": "a138096c",
   "metadata": {},
   "source": [
    "## Check rcParams after update and list fonts available to matplotlib"
   ]
  },
  {
   "cell_type": "code",
   "execution_count": 6,
   "id": "78ed1b50",
   "metadata": {
    "execution": {
     "iopub.execute_input": "2021-05-27T07:39:13.854050Z",
     "iopub.status.busy": "2021-05-27T07:39:13.853883Z",
     "iopub.status.idle": "2021-05-27T07:39:13.856292Z",
     "shell.execute_reply": "2021-05-27T07:39:13.855754Z",
     "shell.execute_reply.started": "2021-05-27T07:39:13.854033Z"
    }
   },
   "outputs": [],
   "source": [
    "# plt.rcParams.values\n",
    "\n",
    "# code = \"\\n\".join([make_html(font) for font in sorted(set([f.name for f in matplotlib.font_manager.fontManager.ttflist]))])\n",
    "\n",
    "# HTML(\"<div style='column-count: 2;'>{}</div>\".format(code))"
   ]
  },
  {
   "cell_type": "markdown",
   "id": "7a50c82d",
   "metadata": {},
   "source": [
    "## Create a test plot"
   ]
  },
  {
   "cell_type": "code",
   "execution_count": 7,
   "id": "bb9e74e1",
   "metadata": {
    "execution": {
     "iopub.execute_input": "2021-05-27T07:39:13.857316Z",
     "iopub.status.busy": "2021-05-27T07:39:13.857133Z",
     "iopub.status.idle": "2021-05-27T07:39:13.860834Z",
     "shell.execute_reply": "2021-05-27T07:39:13.860307Z",
     "shell.execute_reply.started": "2021-05-27T07:39:13.857299Z"
    },
    "tags": []
   },
   "outputs": [],
   "source": [
    "# import numpy as np\n",
    "\n",
    "# t = np.arange(-1.0, 2.0, 0.01)\n",
    "# s = 1 + np.sin(2 * np.pi * t)\n",
    "\n",
    "# fig, ax = plt.subplots()\n",
    "# ax.plot(t, s)\n",
    "\n",
    "# ax.set(xlabel='time (s)', ylabel='voltage (mV)',\n",
    "#        title='About as simple as it gets, folks')\n",
    "# ax.grid()\n",
    "\n",
    "# plt.savefig(\"fig/test-plot.svg\", bbox_inches=\"tight\");\n",
    "# !inkscape fig/test-plot.svg --export-filename=fig/test-plot.pdf;"
   ]
  }
 ],
 "metadata": {
  "celltoolbar": "Slideshow",
  "jupytext": {
   "cell_metadata_json": true,
   "formats": "ipynb,md,py:percent",
   "notebook_metadata_filter": "all"
  },
  "kernelspec": {
   "display_name": "Python 3",
   "language": "python",
   "name": "python3"
  },
  "language_info": {
   "codemirror_mode": {
    "name": "ipython",
    "version": 3
   },
   "file_extension": ".py",
   "mimetype": "text/x-python",
   "name": "python",
   "nbconvert_exporter": "python",
   "pygments_lexer": "ipython3",
   "version": "3.9.5"
  },
  "rise": {
   "scroll": true,
   "theme": "black"
  },
  "toc-autonumbering": true,
  "toc-showcode": false,
  "toc-showmarkdowntxt": false
 },
 "nbformat": 4,
 "nbformat_minor": 5
}
